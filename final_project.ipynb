{
 "cells": [
  {
   "cell_type": "markdown",
   "id": "0502cc79",
   "metadata": {},
   "source": [
    "# COVID-19 Data in Spain"
   ]
  },
  {
   "cell_type": "markdown",
   "id": "fc191feb",
   "metadata": {},
   "source": [
    "# Background of COVID-19"
   ]
  },
  {
   "cell_type": "markdown",
   "id": "e70e6886",
   "metadata": {},
   "source": [
    "COVID-19 has resulted in a worldwide pandemic that started in March 2020. This website will explain specific COVID-19 data for Spain."
   ]
  },
  {
   "cell_type": "markdown",
   "id": "98e6ada5",
   "metadata": {},
   "source": [
    "## Data Source"
   ]
  },
  {
   "cell_type": "markdown",
   "id": "c5936515",
   "metadata": {},
   "source": [
    "The data is from [European Center for Disease Prevention and Control](https://www.ecdc.europa.eu/en/publications-data/download-todays-data-geographic-distribution-covid-19-cases-worldwide)"
   ]
  },
  {
   "cell_type": "markdown",
   "id": "e7a98caa",
   "metadata": {},
   "source": [
    "![Spain Flag](https://upload.wikimedia.org/wikipedia/commons/thumb/8/89/Bandera_de_Espa%C3%B1a.svg/1200px-Bandera_de_Espa%C3%B1a.svg.png)"
   ]
  },
  {
   "cell_type": "code",
   "execution_count": 13,
   "id": "094077d6",
   "metadata": {},
   "outputs": [],
   "source": [
    "%matplotlib inline\n",
    "import pandas"
   ]
  },
  {
   "cell_type": "code",
   "execution_count": 24,
   "id": "87558e65",
   "metadata": {},
   "outputs": [
    {
     "data": {
      "text/html": [
       "<div>\n",
       "<style scoped>\n",
       "    .dataframe tbody tr th:only-of-type {\n",
       "        vertical-align: middle;\n",
       "    }\n",
       "\n",
       "    .dataframe tbody tr th {\n",
       "        vertical-align: top;\n",
       "    }\n",
       "\n",
       "    .dataframe thead th {\n",
       "        text-align: right;\n",
       "    }\n",
       "</style>\n",
       "<table border=\"1\" class=\"dataframe\">\n",
       "  <thead>\n",
       "    <tr style=\"text-align: right;\">\n",
       "      <th></th>\n",
       "      <th>dateRep</th>\n",
       "      <th>day</th>\n",
       "      <th>month</th>\n",
       "      <th>year</th>\n",
       "      <th>cases</th>\n",
       "      <th>deaths</th>\n",
       "      <th>countriesAndTerritories</th>\n",
       "      <th>geoId</th>\n",
       "      <th>countryterritoryCode</th>\n",
       "      <th>popData2019</th>\n",
       "      <th>continentExp</th>\n",
       "      <th>Cumulative_number_for_14_days_of_COVID-19_cases_per_100000</th>\n",
       "    </tr>\n",
       "  </thead>\n",
       "  <tbody>\n",
       "    <tr>\n",
       "      <th>52723</th>\n",
       "      <td>2020-12-13</td>\n",
       "      <td>13</td>\n",
       "      <td>12</td>\n",
       "      <td>2020</td>\n",
       "      <td>0</td>\n",
       "      <td>0</td>\n",
       "      <td>Spain</td>\n",
       "      <td>ES</td>\n",
       "      <td>ESP</td>\n",
       "      <td>46937060.0</td>\n",
       "      <td>Europe</td>\n",
       "      <td>218.094188</td>\n",
       "    </tr>\n",
       "    <tr>\n",
       "      <th>52724</th>\n",
       "      <td>2020-12-12</td>\n",
       "      <td>12</td>\n",
       "      <td>12</td>\n",
       "      <td>2020</td>\n",
       "      <td>0</td>\n",
       "      <td>0</td>\n",
       "      <td>Spain</td>\n",
       "      <td>ES</td>\n",
       "      <td>ESP</td>\n",
       "      <td>46937060.0</td>\n",
       "      <td>Europe</td>\n",
       "      <td>218.094188</td>\n",
       "    </tr>\n",
       "    <tr>\n",
       "      <th>52725</th>\n",
       "      <td>2020-12-11</td>\n",
       "      <td>11</td>\n",
       "      <td>12</td>\n",
       "      <td>2020</td>\n",
       "      <td>10519</td>\n",
       "      <td>280</td>\n",
       "      <td>Spain</td>\n",
       "      <td>ES</td>\n",
       "      <td>ESP</td>\n",
       "      <td>46937060.0</td>\n",
       "      <td>Europe</td>\n",
       "      <td>218.094188</td>\n",
       "    </tr>\n",
       "    <tr>\n",
       "      <th>52726</th>\n",
       "      <td>2020-12-10</td>\n",
       "      <td>10</td>\n",
       "      <td>12</td>\n",
       "      <td>2020</td>\n",
       "      <td>7955</td>\n",
       "      <td>325</td>\n",
       "      <td>Spain</td>\n",
       "      <td>ES</td>\n",
       "      <td>ESP</td>\n",
       "      <td>46937060.0</td>\n",
       "      <td>Europe</td>\n",
       "      <td>218.805779</td>\n",
       "    </tr>\n",
       "    <tr>\n",
       "      <th>52727</th>\n",
       "      <td>2020-12-09</td>\n",
       "      <td>9</td>\n",
       "      <td>12</td>\n",
       "      <td>2020</td>\n",
       "      <td>9773</td>\n",
       "      <td>373</td>\n",
       "      <td>Spain</td>\n",
       "      <td>ES</td>\n",
       "      <td>ESP</td>\n",
       "      <td>46937060.0</td>\n",
       "      <td>Europe</td>\n",
       "      <td>228.039421</td>\n",
       "    </tr>\n",
       "    <tr>\n",
       "      <th>52728</th>\n",
       "      <td>2020-12-08</td>\n",
       "      <td>8</td>\n",
       "      <td>12</td>\n",
       "      <td>2020</td>\n",
       "      <td>0</td>\n",
       "      <td>0</td>\n",
       "      <td>Spain</td>\n",
       "      <td>ES</td>\n",
       "      <td>ESP</td>\n",
       "      <td>46937060.0</td>\n",
       "      <td>Europe</td>\n",
       "      <td>228.996021</td>\n",
       "    </tr>\n",
       "    <tr>\n",
       "      <th>52729</th>\n",
       "      <td>2020-12-07</td>\n",
       "      <td>7</td>\n",
       "      <td>12</td>\n",
       "      <td>2020</td>\n",
       "      <td>17681</td>\n",
       "      <td>394</td>\n",
       "      <td>Spain</td>\n",
       "      <td>ES</td>\n",
       "      <td>ESP</td>\n",
       "      <td>46937060.0</td>\n",
       "      <td>Europe</td>\n",
       "      <td>255.047930</td>\n",
       "    </tr>\n",
       "    <tr>\n",
       "      <th>52730</th>\n",
       "      <td>2020-12-06</td>\n",
       "      <td>6</td>\n",
       "      <td>12</td>\n",
       "      <td>2020</td>\n",
       "      <td>0</td>\n",
       "      <td>0</td>\n",
       "      <td>Spain</td>\n",
       "      <td>ES</td>\n",
       "      <td>ESP</td>\n",
       "      <td>46937060.0</td>\n",
       "      <td>Europe</td>\n",
       "      <td>272.528786</td>\n",
       "    </tr>\n",
       "    <tr>\n",
       "      <th>52731</th>\n",
       "      <td>2020-12-05</td>\n",
       "      <td>5</td>\n",
       "      <td>12</td>\n",
       "      <td>2020</td>\n",
       "      <td>0</td>\n",
       "      <td>0</td>\n",
       "      <td>Spain</td>\n",
       "      <td>ES</td>\n",
       "      <td>ESP</td>\n",
       "      <td>46937060.0</td>\n",
       "      <td>Europe</td>\n",
       "      <td>272.528786</td>\n",
       "    </tr>\n",
       "    <tr>\n",
       "      <th>52732</th>\n",
       "      <td>2020-12-04</td>\n",
       "      <td>4</td>\n",
       "      <td>12</td>\n",
       "      <td>2020</td>\n",
       "      <td>8745</td>\n",
       "      <td>214</td>\n",
       "      <td>Spain</td>\n",
       "      <td>ES</td>\n",
       "      <td>ESP</td>\n",
       "      <td>46937060.0</td>\n",
       "      <td>Europe</td>\n",
       "      <td>272.528786</td>\n",
       "    </tr>\n",
       "  </tbody>\n",
       "</table>\n",
       "</div>"
      ],
      "text/plain": [
       "         dateRep  day  month  year  cases  deaths countriesAndTerritories  \\\n",
       "52723 2020-12-13   13     12  2020      0       0                   Spain   \n",
       "52724 2020-12-12   12     12  2020      0       0                   Spain   \n",
       "52725 2020-12-11   11     12  2020  10519     280                   Spain   \n",
       "52726 2020-12-10   10     12  2020   7955     325                   Spain   \n",
       "52727 2020-12-09    9     12  2020   9773     373                   Spain   \n",
       "52728 2020-12-08    8     12  2020      0       0                   Spain   \n",
       "52729 2020-12-07    7     12  2020  17681     394                   Spain   \n",
       "52730 2020-12-06    6     12  2020      0       0                   Spain   \n",
       "52731 2020-12-05    5     12  2020      0       0                   Spain   \n",
       "52732 2020-12-04    4     12  2020   8745     214                   Spain   \n",
       "\n",
       "      geoId countryterritoryCode  popData2019 continentExp  \\\n",
       "52723    ES                  ESP   46937060.0       Europe   \n",
       "52724    ES                  ESP   46937060.0       Europe   \n",
       "52725    ES                  ESP   46937060.0       Europe   \n",
       "52726    ES                  ESP   46937060.0       Europe   \n",
       "52727    ES                  ESP   46937060.0       Europe   \n",
       "52728    ES                  ESP   46937060.0       Europe   \n",
       "52729    ES                  ESP   46937060.0       Europe   \n",
       "52730    ES                  ESP   46937060.0       Europe   \n",
       "52731    ES                  ESP   46937060.0       Europe   \n",
       "52732    ES                  ESP   46937060.0       Europe   \n",
       "\n",
       "       Cumulative_number_for_14_days_of_COVID-19_cases_per_100000  \n",
       "52723                                         218.094188           \n",
       "52724                                         218.094188           \n",
       "52725                                         218.094188           \n",
       "52726                                         218.805779           \n",
       "52727                                         228.039421           \n",
       "52728                                         228.996021           \n",
       "52729                                         255.047930           \n",
       "52730                                         272.528786           \n",
       "52731                                         272.528786           \n",
       "52732                                         272.528786           "
      ]
     },
     "execution_count": 24,
     "metadata": {},
     "output_type": "execute_result"
    }
   ],
   "source": [
    "df = pandas.read_excel('s3://ksmithia241-2021spring/COVID-19-geographic-disbtribution-worldwide-2020-12-14.xls')\n",
    "spain_data =df.loc[ df['countriesAndTerritories']== 'Spain']\n",
    "\n",
    "spain_data[:10]"
   ]
  },
  {
   "cell_type": "markdown",
   "id": "48262a63",
   "metadata": {},
   "source": [
    "# Question 1: How Many COVID-19 Cases Have Been Confirmed as of December 2020 in Spain?"
   ]
  },
  {
   "cell_type": "code",
   "execution_count": 15,
   "id": "e2f91b1e",
   "metadata": {},
   "outputs": [
    {
     "data": {
      "text/plain": [
       "1730575"
      ]
     },
     "execution_count": 15,
     "metadata": {},
     "output_type": "execute_result"
    }
   ],
   "source": [
    "spain_data.sum()['cases']"
   ]
  },
  {
   "cell_type": "code",
   "execution_count": 17,
   "id": "84b89da7",
   "metadata": {},
   "outputs": [
    {
     "data": {
      "text/plain": [
       "<AxesSubplot:xlabel='month'>"
      ]
     },
     "execution_count": 17,
     "metadata": {},
     "output_type": "execute_result"
    },
    {
     "data": {
      "image/png": "[encoded data removed]",
      "text/plain": [
       "<Figure size 432x288 with 1 Axes>"
      ]
     },
     "metadata": {
      "needs_background": "light"
     },
     "output_type": "display_data"
    }
   ],
   "source": [
    "sum_cases_per_day = spain_data.groupby('month').sum()['cases']\n",
    "sum_cases_per_day.plot()"
   ]
  },
  {
   "cell_type": "markdown",
   "id": "7190c57b",
   "metadata": {},
   "source": [
    "The total number of cases in Spain as of December 2020 was 1,730,575. The cases spiked in November to around 450,000."
   ]
  },
  {
   "cell_type": "markdown",
   "id": "c9d38ca1",
   "metadata": {},
   "source": [
    "## Question 2: How Many COVID-19 Deaths Have Been Confirmed Since December 2020 in Spain?"
   ]
  },
  {
   "cell_type": "code",
   "execution_count": 27,
   "id": "ef3ce727",
   "metadata": {},
   "outputs": [
    {
     "data": {
      "text/plain": [
       "47624"
      ]
     },
     "execution_count": 27,
     "metadata": {},
     "output_type": "execute_result"
    }
   ],
   "source": [
    "spain_data.sum()['deaths']"
   ]
  },
  {
   "cell_type": "code",
   "execution_count": 31,
   "id": "16cd6893",
   "metadata": {},
   "outputs": [
    {
     "data": {
      "text/plain": [
       "<AxesSubplot:xlabel='month'>"
      ]
     },
     "execution_count": 31,
     "metadata": {},
     "output_type": "execute_result"
    },
    {
     "data": {
      "image/png": "[encoded data removed]",
      "text/plain": [
       "<Figure size 432x288 with 1 Axes>"
      ]
     },
     "metadata": {
      "needs_background": "light"
     },
     "output_type": "display_data"
    }
   ],
   "source": [
    "sum_cases_per_day = spain_data.groupby('month').sum()['deaths']\n",
    "sum_cases_per_day.plot.bar()"
   ]
  },
  {
   "cell_type": "markdown",
   "id": "b2897a3b",
   "metadata": {},
   "source": [
    "The total number of deaths in Spain as of December 2020 was 47,624."
   ]
  },
  {
   "cell_type": "markdown",
   "id": "aad87798",
   "metadata": {},
   "source": [
    "# Question 3: Which Month of 2020 Yielded the Most Deaths due to COVID-19 in Spain?"
   ]
  },
  {
   "cell_type": "code",
   "execution_count": 32,
   "id": "29095cc1",
   "metadata": {},
   "outputs": [
    {
     "data": {
      "text/plain": [
       "<AxesSubplot:xlabel='month'>"
      ]
     },
     "execution_count": 32,
     "metadata": {},
     "output_type": "execute_result"
    },
    {
     "data": {
      "image/png": "[encoded data removed]",
      "text/plain": [
       "<Figure size 432x288 with 1 Axes>"
      ]
     },
     "metadata": {
      "needs_background": "light"
     },
     "output_type": "display_data"
    }
   ],
   "source": [
    "sum_cases_per_day = spain_data.groupby('month').sum()['deaths']\n",
    "sum_cases_per_day.plot()"
   ]
  },
  {
   "cell_type": "markdown",
   "id": "4e5fd462",
   "metadata": {},
   "source": [
    "The month of April yielded the most deaths due to Covid-19 in Spain, totaling to around 175,000."
   ]
  },
  {
   "cell_type": "markdown",
   "id": "3c273d7a",
   "metadata": {},
   "source": [
    "# Conclusions and Limitations"
   ]
  },
  {
   "cell_type": "markdown",
   "id": "5cdb27bb",
   "metadata": {},
   "source": [
    "The total number of cases in Spain as of December 2020 was 1,730,575. From these cases, there were a total of 47,624 deaths. Finally, during the month of April, Spain experienced the most amount of deaths. A possible limitation of this website may be that the month with the highest cases in Spain was not found. This would allow cross analysis between the months with the highest death rate, and month with the highest case rate."
   ]
  },
  {
   "cell_type": "markdown",
   "id": "20f2c5e2",
   "metadata": {},
   "source": [
    "# Author Information"
   ]
  },
  {
   "cell_type": "markdown",
   "id": "b6596e7c",
   "metadata": {},
   "source": [
    "Thank you for reading. Please email with any questions: smit23kc@dukes.jmu.edu"
   ]
  }
 ],
 "metadata": {
  "kernelspec": {
   "display_name": "conda_python3",
   "language": "python",
   "name": "conda_python3"
  },
  "language_info": {
   "codemirror_mode": {
    "name": "ipython",
    "version": 3
   },
   "file_extension": ".py",
   "mimetype": "text/x-python",
   "name": "python",
   "nbconvert_exporter": "python",
   "pygments_lexer": "ipython3",
   "version": "3.6.13"
  }
 },
 "nbformat": 4,
 "nbformat_minor": 5
}
